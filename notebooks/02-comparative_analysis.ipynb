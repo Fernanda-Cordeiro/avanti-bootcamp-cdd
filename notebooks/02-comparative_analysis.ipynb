{
 "cells": [
  {
   "cell_type": "markdown",
   "id": "cf447baf-492b-46c7-bfa4-e68f556c8ee6",
   "metadata": {},
   "source": [
    "# Análise Comparativa de Modelos"
   ]
  },
  {
   "cell_type": "code",
   "execution_count": 21,
   "id": "1a305e17-2132-4078-8972-b780992e2856",
   "metadata": {
    "tags": []
   },
   "outputs": [],
   "source": [
    "from IPython.display import display, Markdown\n",
    "import pandas as pd\n",
    "import numpy as np\n",
    "import joblib\n",
    "\n",
    "from sklearn.preprocessing import StandardScaler, MinMaxScaler, OneHotEncoder, OrdinalEncoder, LabelEncoder\n",
    "from sklearn.linear_model import LogisticRegression\n",
    "from sklearn.compose import ColumnTransformer\n",
    "from sklearn.impute import SimpleImputer\n",
    "from sklearn.pipeline import Pipeline\n",
    "\n",
    "from sklearn.model_selection import ShuffleSplit, GridSearchCV, KFold, cross_validate\n",
    "from sklearn.ensemble import RandomForestRegressor\n",
    "from sklearn.neighbors import KNeighborsRegressor\n",
    "from sklearn.tree import DecisionTreeRegressor\n",
    "from sklearn.svm import SVR"
   ]
  },
  {
   "cell_type": "markdown",
   "id": "c64d9a35-1761-4bfc-9fd7-6e95267f6b7f",
   "metadata": {},
   "source": [
    "## 1. Obtenção do Conjunto de Dados"
   ]
  },
  {
   "cell_type": "code",
   "execution_count": 22,
   "id": "45c85af1-2090-4103-b753-768e447812a3",
   "metadata": {
    "tags": []
   },
   "outputs": [
    {
     "data": {
      "text/html": [
       "<div>\n",
       "<style scoped>\n",
       "    .dataframe tbody tr th:only-of-type {\n",
       "        vertical-align: middle;\n",
       "    }\n",
       "\n",
       "    .dataframe tbody tr th {\n",
       "        vertical-align: top;\n",
       "    }\n",
       "\n",
       "    .dataframe thead th {\n",
       "        text-align: right;\n",
       "    }\n",
       "</style>\n",
       "<table border=\"1\" class=\"dataframe\">\n",
       "  <thead>\n",
       "    <tr style=\"text-align: right;\">\n",
       "      <th></th>\n",
       "      <th>variavel</th>\n",
       "      <th>descricao</th>\n",
       "      <th>tipo</th>\n",
       "      <th>subtipo</th>\n",
       "    </tr>\n",
       "  </thead>\n",
       "  <tbody>\n",
       "    <tr>\n",
       "      <th>0</th>\n",
       "      <td>total_bill</td>\n",
       "      <td>valor total da conta em dólares</td>\n",
       "      <td>quantitativa</td>\n",
       "      <td>continua</td>\n",
       "    </tr>\n",
       "    <tr>\n",
       "      <th>1</th>\n",
       "      <td>tip</td>\n",
       "      <td>valor da gorjeta em dólares</td>\n",
       "      <td>quantitativa</td>\n",
       "      <td>continua</td>\n",
       "    </tr>\n",
       "    <tr>\n",
       "      <th>2</th>\n",
       "      <td>sex</td>\n",
       "      <td>sexo do cliente</td>\n",
       "      <td>qualitativa</td>\n",
       "      <td>nominal</td>\n",
       "    </tr>\n",
       "    <tr>\n",
       "      <th>3</th>\n",
       "      <td>smoker</td>\n",
       "      <td>se o cliente fuma</td>\n",
       "      <td>qualitativa</td>\n",
       "      <td>nominal</td>\n",
       "    </tr>\n",
       "    <tr>\n",
       "      <th>4</th>\n",
       "      <td>day</td>\n",
       "      <td>dia da semana</td>\n",
       "      <td>qualitativa</td>\n",
       "      <td>ordinal</td>\n",
       "    </tr>\n",
       "    <tr>\n",
       "      <th>5</th>\n",
       "      <td>time</td>\n",
       "      <td>horario</td>\n",
       "      <td>qualitativa</td>\n",
       "      <td>ordinal</td>\n",
       "    </tr>\n",
       "    <tr>\n",
       "      <th>6</th>\n",
       "      <td>size</td>\n",
       "      <td>pessoas na mesa</td>\n",
       "      <td>quantitativa</td>\n",
       "      <td>discreta</td>\n",
       "    </tr>\n",
       "  </tbody>\n",
       "</table>\n",
       "</div>"
      ],
      "text/plain": [
       "     variavel                        descricao          tipo   subtipo\n",
       "0  total_bill  valor total da conta em dólares  quantitativa  continua\n",
       "1         tip      valor da gorjeta em dólares  quantitativa  continua\n",
       "2         sex                  sexo do cliente   qualitativa   nominal\n",
       "3      smoker                se o cliente fuma   qualitativa   nominal\n",
       "4         day                    dia da semana   qualitativa   ordinal\n",
       "5        time                          horario   qualitativa   ordinal\n",
       "6        size                  pessoas na mesa  quantitativa  discreta"
      ]
     },
     "execution_count": 22,
     "metadata": {},
     "output_type": "execute_result"
    }
   ],
   "source": [
    "# Obtemos os arquivos brutos de dados e o dicionário antes de iniciar as etapas do pré-processamento.\n",
    "df = pd.read_csv(\"../data/raw/data.csv\")\n",
    "df_dict = pd.read_csv(\"../data/external/dictionary.csv\")\n",
    "df_dict"
   ]
  },
  {
   "cell_type": "markdown",
   "id": "283c12dc-2d4e-4581-b90b-be9ebf2c429c",
   "metadata": {},
   "source": [
    "## 2. Limpeza de Dados:"
   ]
  },
  {
   "cell_type": "markdown",
   "id": "0c98198b-e41f-4731-9f85-b26e677f62ae",
   "metadata": {},
   "source": [
    "Aqui realizamos a normalização, codificação e o tratamento de dados discrepantes e/ou faltantes dentro do conjunto de dados."
   ]
  },
  {
   "cell_type": "markdown",
   "id": "71fb1ce3-fca6-4801-b7d3-a509036197c5",
   "metadata": {},
   "source": [
    "### 2.1. Tratamento de dados faltantes:"
   ]
  },
  {
   "cell_type": "code",
   "execution_count": 23,
   "id": "b7fb1c09-8d15-4ef4-bcb8-81d086676051",
   "metadata": {
    "tags": []
   },
   "outputs": [
    {
     "data": {
      "text/plain": [
       "total_bill    0\n",
       "tip           0\n",
       "sex           0\n",
       "smoker        0\n",
       "day           0\n",
       "time          0\n",
       "size          0\n",
       "dtype: int64"
      ]
     },
     "execution_count": 23,
     "metadata": {},
     "output_type": "execute_result"
    }
   ],
   "source": [
    "# Contagem total de dados  faltantes\n",
    "df.isnull().sum()"
   ]
  },
  {
   "cell_type": "markdown",
   "id": "eb79efcf-946f-4005-938b-b57a204aa07d",
   "metadata": {},
   "source": [
    "**Observação**: No conjunto de dados não há dados faltantes."
   ]
  },
  {
   "cell_type": "markdown",
   "id": "55435fc5-7f6e-4e41-b906-b48defc2387c",
   "metadata": {},
   "source": [
    "### 2.2. Tratamento de dados discrepantes:"
   ]
  },
  {
   "cell_type": "code",
   "execution_count": 24,
   "id": "889047f0-5ecc-4de1-93ed-917cad05c495",
   "metadata": {
    "tags": []
   },
   "outputs": [],
   "source": [
    "# Separar as variáveis.\n",
    "target_column = 'tip'\n",
    "\n",
    "# Organizar as colunas.\n",
    "continuous_columns = (\n",
    "    df_dict\n",
    "    .query(\"subtipo == 'continua'\")\n",
    "    .variavel\n",
    "    .to_list()\n",
    ")\n",
    "nominal_columns = (\n",
    "    df_dict\n",
    "    .query(\"subtipo == 'nominal' and variavel != @target_column\")\n",
    "    .variavel\n",
    "    .to_list()\n",
    ")\n",
    "ordinal_day_columns = (\n",
    "    df_dict\n",
    "    .query(\"variavel in ['day']\")\n",
    "    .variavel\n",
    "    .to_list()\n",
    ")\n",
    "ordinal_time_columns = (\n",
    "    df_dict\n",
    "    .query(\"variavel in ['time']\")\n",
    "    .variavel\n",
    "    .to_list()\n",
    ")\n",
    "discrete_columns = (\n",
    "    df_dict\n",
    "    .query(\"subtipo == 'discreta'\")\n",
    "    .variavel\n",
    "    .to_list()\n",
    ")\n",
    "\n",
    "X = df.drop(columns=[target_column], axis=1)\n",
    "y = df[target_column]"
   ]
  },
  {
   "cell_type": "code",
   "execution_count": 25,
   "id": "9a4a8aba-4952-42e1-9488-655e0b1f40f5",
   "metadata": {
    "tags": []
   },
   "outputs": [],
   "source": [
    "continuous_preprocessor = Pipeline([\n",
    "    ('missing', SimpleImputer(strategy='mean')),  # Tratamento de dados faltantes\n",
    "    ('normalization', StandardScaler())  # Normalização de dados contínuos\n",
    "])\n",
    "nominal_preprocessor = Pipeline([\n",
    "    ('missing', SimpleImputer(strategy='most_frequent')), # Tratamento de dados faltantes\n",
    "    ('encoding', OneHotEncoder(sparse_output=False, drop='first')), # Codificação de variáveis\n",
    "    ('normalization', StandardScaler()) # Normalização de dados\n",
    "])\n",
    "ordinal_day_preprocessor = Pipeline([\n",
    "    ('missing', SimpleImputer(strategy='most_frequent')), # Tratamento de dados faltantes\n",
    "    ('encoding', OneHotEncoder(sparse_output=False, drop='first')), # Codificação de variáveis\n",
    "    ('normalization', StandardScaler()) # Normalização de dados\n",
    "])\n",
    "ordinal_time_preprocessor = Pipeline([\n",
    "    ('missing', SimpleImputer(strategy='most_frequent')), # Tratamento de dados faltantes\n",
    "    ('encoding', OneHotEncoder(sparse_output=False, drop='first')), # Codificação de variáveis\n",
    "    ('normalization', StandardScaler()) # Normalização de dados\n",
    "])\n",
    "discrete_preprocessor = Pipeline([\n",
    "    ('missing', SimpleImputer(strategy='mean')),  # Tratamento de dados faltantes\n",
    "    ('normalization', StandardScaler()) # Normalização de dados\n",
    "])\n",
    "preprocessor = ColumnTransformer([\n",
    "    ('nominal', nominal_preprocessor, nominal_columns),\n",
    "    ('continuous', continuous_preprocessor, continuous_columns),\n",
    "    ('ordinal_day', ordinal_day_preprocessor, ordinal_day_columns),\n",
    "    ('ordinal_time', ordinal_time_preprocessor, ordinal_time_columns),\n",
    "    ('discrete', discrete_preprocessor, discrete_columns)\n",
    "])\n",
    "\n",
    "model = LogisticRegression()"
   ]
  }
 ],
 "metadata": {
  "kernelspec": {
   "display_name": "Python 3 (ipykernel)",
   "language": "python",
   "name": "python3"
  },
  "language_info": {
   "codemirror_mode": {
    "name": "ipython",
    "version": 3
   },
   "file_extension": ".py",
   "mimetype": "text/x-python",
   "name": "python",
   "nbconvert_exporter": "python",
   "pygments_lexer": "ipython3",
   "version": "3.10.11"
  }
 },
 "nbformat": 4,
 "nbformat_minor": 5
}
