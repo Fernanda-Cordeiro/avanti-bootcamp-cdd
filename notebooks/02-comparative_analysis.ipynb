{
 "cells": [
  {
   "cell_type": "markdown",
   "id": "cf447baf-492b-46c7-bfa4-e68f556c8ee6",
   "metadata": {},
   "source": [
    "# Análise Comparativa de Modelos"
   ]
  },
  {
   "cell_type": "code",
   "execution_count": 39,
   "id": "1a305e17-2132-4078-8972-b780992e2856",
   "metadata": {
    "tags": []
   },
   "outputs": [],
   "source": [
    "from IPython.display import display, Markdown\n",
    "import pandas as pd\n",
    "import numpy as np\n",
    "import joblib\n",
    "\n",
    "from sklearn.preprocessing import StandardScaler, MinMaxScaler, OneHotEncoder, OrdinalEncoder, LabelEncoder\n",
    "from sklearn.linear_model import LogisticRegression\n",
    "from sklearn.compose import ColumnTransformer\n",
    "from sklearn.impute import SimpleImputer\n",
    "from sklearn.pipeline import Pipeline\n",
    "\n",
    "from sklearn.model_selection import ShuffleSplit, GridSearchCV, KFold, cross_validate\n",
    "from sklearn.ensemble import RandomForestRegressor\n",
    "from sklearn.neighbors import KNeighborsRegressor\n",
    "from sklearn.tree import DecisionTreeRegressor\n",
    "from sklearn.svm import SVR"
   ]
  },
  {
   "cell_type": "markdown",
   "id": "c64d9a35-1761-4bfc-9fd7-6e95267f6b7f",
   "metadata": {},
   "source": [
    "## 1. Obtenção do Conjunto de Dados"
   ]
  },
  {
   "cell_type": "code",
   "execution_count": 22,
   "id": "45c85af1-2090-4103-b753-768e447812a3",
   "metadata": {
    "tags": []
   },
   "outputs": [
    {
     "data": {
      "text/html": [
       "<div>\n",
       "<style scoped>\n",
       "    .dataframe tbody tr th:only-of-type {\n",
       "        vertical-align: middle;\n",
       "    }\n",
       "\n",
       "    .dataframe tbody tr th {\n",
       "        vertical-align: top;\n",
       "    }\n",
       "\n",
       "    .dataframe thead th {\n",
       "        text-align: right;\n",
       "    }\n",
       "</style>\n",
       "<table border=\"1\" class=\"dataframe\">\n",
       "  <thead>\n",
       "    <tr style=\"text-align: right;\">\n",
       "      <th></th>\n",
       "      <th>variavel</th>\n",
       "      <th>descricao</th>\n",
       "      <th>tipo</th>\n",
       "      <th>subtipo</th>\n",
       "    </tr>\n",
       "  </thead>\n",
       "  <tbody>\n",
       "    <tr>\n",
       "      <th>0</th>\n",
       "      <td>total_bill</td>\n",
       "      <td>valor total da conta em dólares</td>\n",
       "      <td>quantitativa</td>\n",
       "      <td>continua</td>\n",
       "    </tr>\n",
       "    <tr>\n",
       "      <th>1</th>\n",
       "      <td>tip</td>\n",
       "      <td>valor da gorjeta em dólares</td>\n",
       "      <td>quantitativa</td>\n",
       "      <td>continua</td>\n",
       "    </tr>\n",
       "    <tr>\n",
       "      <th>2</th>\n",
       "      <td>sex</td>\n",
       "      <td>sexo do cliente</td>\n",
       "      <td>qualitativa</td>\n",
       "      <td>nominal</td>\n",
       "    </tr>\n",
       "    <tr>\n",
       "      <th>3</th>\n",
       "      <td>smoker</td>\n",
       "      <td>se o cliente fuma</td>\n",
       "      <td>qualitativa</td>\n",
       "      <td>nominal</td>\n",
       "    </tr>\n",
       "    <tr>\n",
       "      <th>4</th>\n",
       "      <td>day</td>\n",
       "      <td>dia da semana</td>\n",
       "      <td>qualitativa</td>\n",
       "      <td>ordinal</td>\n",
       "    </tr>\n",
       "    <tr>\n",
       "      <th>5</th>\n",
       "      <td>time</td>\n",
       "      <td>horario</td>\n",
       "      <td>qualitativa</td>\n",
       "      <td>ordinal</td>\n",
       "    </tr>\n",
       "    <tr>\n",
       "      <th>6</th>\n",
       "      <td>size</td>\n",
       "      <td>pessoas na mesa</td>\n",
       "      <td>quantitativa</td>\n",
       "      <td>discreta</td>\n",
       "    </tr>\n",
       "  </tbody>\n",
       "</table>\n",
       "</div>"
      ],
      "text/plain": [
       "     variavel                        descricao          tipo   subtipo\n",
       "0  total_bill  valor total da conta em dólares  quantitativa  continua\n",
       "1         tip      valor da gorjeta em dólares  quantitativa  continua\n",
       "2         sex                  sexo do cliente   qualitativa   nominal\n",
       "3      smoker                se o cliente fuma   qualitativa   nominal\n",
       "4         day                    dia da semana   qualitativa   ordinal\n",
       "5        time                          horario   qualitativa   ordinal\n",
       "6        size                  pessoas na mesa  quantitativa  discreta"
      ]
     },
     "execution_count": 22,
     "metadata": {},
     "output_type": "execute_result"
    }
   ],
   "source": [
    "# Obtemos os arquivos brutos de dados e o dicionário antes de iniciar as etapas do pré-processamento.\n",
    "df = pd.read_csv(\"../data/raw/data.csv\")\n",
    "df_dict = pd.read_csv(\"../data/external/dictionary.csv\")\n",
    "df_dict"
   ]
  },
  {
   "cell_type": "markdown",
   "id": "283c12dc-2d4e-4581-b90b-be9ebf2c429c",
   "metadata": {},
   "source": [
    "## 2. Limpeza de Dados:"
   ]
  },
  {
   "cell_type": "markdown",
   "id": "0c98198b-e41f-4731-9f85-b26e677f62ae",
   "metadata": {},
   "source": [
    "Aqui realizamos a normalização, codificação e o tratamento de dados discrepantes e/ou faltantes dentro do conjunto de dados."
   ]
  },
  {
   "cell_type": "markdown",
   "id": "71fb1ce3-fca6-4801-b7d3-a509036197c5",
   "metadata": {},
   "source": [
    "### 2.1. Tratamento de dados faltantes:"
   ]
  },
  {
   "cell_type": "code",
   "execution_count": 23,
   "id": "b7fb1c09-8d15-4ef4-bcb8-81d086676051",
   "metadata": {
    "tags": []
   },
   "outputs": [
    {
     "data": {
      "text/plain": [
       "total_bill    0\n",
       "tip           0\n",
       "sex           0\n",
       "smoker        0\n",
       "day           0\n",
       "time          0\n",
       "size          0\n",
       "dtype: int64"
      ]
     },
     "execution_count": 23,
     "metadata": {},
     "output_type": "execute_result"
    }
   ],
   "source": [
    "# Contagem total de dados  faltantes\n",
    "df.isnull().sum()"
   ]
  },
  {
   "cell_type": "markdown",
   "id": "eb79efcf-946f-4005-938b-b57a204aa07d",
   "metadata": {},
   "source": [
    "**Observação**: No conjunto de dados não há dados faltantes."
   ]
  },
  {
   "cell_type": "markdown",
   "id": "55435fc5-7f6e-4e41-b906-b48defc2387c",
   "metadata": {},
   "source": [
    "### 2.2. Tratamento de dados discrepantes:"
   ]
  },
  {
   "cell_type": "code",
   "execution_count": 24,
   "id": "889047f0-5ecc-4de1-93ed-917cad05c495",
   "metadata": {
    "tags": []
   },
   "outputs": [],
   "source": [
    "# Separar as variáveis.\n",
    "target_column = 'tip'\n",
    "\n",
    "# Organizar as colunas.\n",
    "continuous_columns = (\n",
    "    df_dict\n",
    "    .query(\"subtipo == 'continua'\")\n",
    "    .variavel\n",
    "    .to_list()\n",
    ")\n",
    "nominal_columns = (\n",
    "    df_dict\n",
    "    .query(\"subtipo == 'nominal' and variavel != @target_column\")\n",
    "    .variavel\n",
    "    .to_list()\n",
    ")\n",
    "ordinal_day_columns = (\n",
    "    df_dict\n",
    "    .query(\"variavel in ['day']\")\n",
    "    .variavel\n",
    "    .to_list()\n",
    ")\n",
    "ordinal_time_columns = (\n",
    "    df_dict\n",
    "    .query(\"variavel in ['time']\")\n",
    "    .variavel\n",
    "    .to_list()\n",
    ")\n",
    "discrete_columns = (\n",
    "    df_dict\n",
    "    .query(\"subtipo == 'discreta'\")\n",
    "    .variavel\n",
    "    .to_list()\n",
    ")\n",
    "\n",
    "X = df.drop(columns=[target_column], axis=1)\n",
    "y = df[target_column]"
   ]
  },
  {
   "cell_type": "code",
   "execution_count": 25,
   "id": "9a4a8aba-4952-42e1-9488-655e0b1f40f5",
   "metadata": {
    "tags": []
   },
   "outputs": [],
   "source": [
    "continuous_preprocessor = Pipeline([\n",
    "    ('missing', SimpleImputer(strategy='mean')),  # Tratamento de dados faltantes\n",
    "    ('normalization', StandardScaler())  # Normalização de dados contínuos\n",
    "])\n",
    "nominal_preprocessor = Pipeline([\n",
    "    ('missing', SimpleImputer(strategy='most_frequent')), # Tratamento de dados faltantes\n",
    "    ('encoding', OneHotEncoder(sparse_output=False, drop='first')), # Codificação de variáveis\n",
    "    ('normalization', StandardScaler()) # Normalização de dados\n",
    "])\n",
    "ordinal_day_preprocessor = Pipeline([\n",
    "    ('missing', SimpleImputer(strategy='most_frequent')), # Tratamento de dados faltantes\n",
    "    ('encoding', OneHotEncoder(sparse_output=False, drop='first')), # Codificação de variáveis\n",
    "    ('normalization', StandardScaler()) # Normalização de dados\n",
    "])\n",
    "ordinal_time_preprocessor = Pipeline([\n",
    "    ('missing', SimpleImputer(strategy='most_frequent')), # Tratamento de dados faltantes\n",
    "    ('encoding', OneHotEncoder(sparse_output=False, drop='first')), # Codificação de variáveis\n",
    "    ('normalization', StandardScaler()) # Normalização de dados\n",
    "])\n",
    "discrete_preprocessor = Pipeline([\n",
    "    ('missing', SimpleImputer(strategy='mean')),  # Tratamento de dados faltantes\n",
    "    ('normalization', StandardScaler()) # Normalização de dados\n",
    "])\n",
    "preprocessor = ColumnTransformer([\n",
    "    ('nominal', nominal_preprocessor, nominal_columns),\n",
    "    ('continuous', continuous_preprocessor, continuous_columns),\n",
    "    ('ordinal_day', ordinal_day_preprocessor, ordinal_day_columns),\n",
    "    ('ordinal_time', ordinal_time_preprocessor, ordinal_time_columns),\n",
    "    ('discrete', discrete_preprocessor, discrete_columns)\n",
    "])\n",
    "\n",
    "model = LogisticRegression()"
   ]
  },
  {
   "cell_type": "markdown",
   "id": "4b489bd9-d1db-417f-83d7-89fe94cc5081",
   "metadata": {},
   "source": [
    "## 3. Seleção de Modelos"
   ]
  },
  {
   "cell_type": "markdown",
   "id": "20fcd952-c15e-4bae-803e-61a330394d50",
   "metadata": {},
   "source": [
    "Iremos análisar quatro modelos, que serão testados utilizando um método de validação, a saber:\n",
    "\n",
    "- K-Nearest-Neighbors\n",
    "- Decision Tree\n",
    "- Random Forest\n",
    "\n",
    "Além disso, cada um desses algoritmos será testado com diferentes hiper-parametros, para que possamos encontrar o melhor modelo e a melhor configuração possível para esse modelo.\n",
    "\n",
    "Utilizaremos as seguintes métricas para análise:\n",
    "\n",
    "- Acurácia (accuracy): proporção entre os dados que foram corretamente previstos (como positivos ou negativos) com o total de dados observados.\n",
    "- Precisão (precision): proporção entre dados corretamente previstos como positivos e o total de observações positivas.\n",
    "- Recall: proporção entre dados corretamente previstos como positivos com o total de observações.\n",
    "- F1-score: média entre precision e recall, portanto levando em conta tanto falsos positivos quanto falsos negativos."
   ]
  },
  {
   "cell_type": "code",
   "execution_count": 40,
   "id": "9913e68e-ac40-4b96-9945-559d6e1af59b",
   "metadata": {
    "tags": []
   },
   "outputs": [],
   "source": [
    "# experiment settings\n",
    "n_splits_comparative_analysis = 10\n",
    "n_folds_grid_search = 5\n",
    "test_size = .2\n",
    "random_state = 0\n",
    "scoring = 'accuracy'\n",
    "metrics = ['accuracy', 'precision_macro', 'recall_macro', 'f1_macro']\n",
    "\n",
    "# model settings\n",
    "max_iter = 1000\n",
    "models = [\n",
    "    ('K-Nearest Neighbors', KNeighborsRegressor(), {\"n_neighbors\": range(3, 20, 2), 'weights': ['uniform', 'distance']}),\n",
    "    ('Decision Tree',  DecisionTreeRegressor(random_state=random_state), {'criterion':['squared_error', 'friedman_mse'],'max_depth': [3, 25, 40]}),\n",
    "    ('Random Forest',  RandomForestRegressor(random_state=random_state), {'criterion':['squared_error', 'friedman_mse'],'max_depth': [3, 25, 40], 'n_estimators': [10, 50]}),\n",
    "]"
   ]
  },
  {
   "cell_type": "code",
   "execution_count": 41,
   "id": "5e61ea39-b592-4903-b0ec-8995bd0eab45",
   "metadata": {
    "tags": []
   },
   "outputs": [
    {
     "name": "stdout",
     "output_type": "stream",
     "text": [
      "running K-Nearest Neighbors...\n"
     ]
    },
    {
     "ename": "ValueError",
     "evalue": "\nAll the 10 fits failed.\nIt is very likely that your model is misconfigured.\nYou can try to debug the error by setting error_score='raise'.\n\nBelow are more details about the failures:\n--------------------------------------------------------------------------------\n10 fits failed with the following error:\nTraceback (most recent call last):\n  File \"/mnt/c/Users/Samsung/avanti-bootcamp-cdd/.venv/lib/python3.10/site-packages/pandas/core/indexes/base.py\", line 3802, in get_loc\n    return self._engine.get_loc(casted_key)\n  File \"pandas/_libs/index.pyx\", line 138, in pandas._libs.index.IndexEngine.get_loc\n  File \"pandas/_libs/index.pyx\", line 165, in pandas._libs.index.IndexEngine.get_loc\n  File \"pandas/_libs/hashtable_class_helper.pxi\", line 5745, in pandas._libs.hashtable.PyObjectHashTable.get_item\n  File \"pandas/_libs/hashtable_class_helper.pxi\", line 5753, in pandas._libs.hashtable.PyObjectHashTable.get_item\nKeyError: 'tip'\n\nThe above exception was the direct cause of the following exception:\n\nTraceback (most recent call last):\n  File \"/mnt/c/Users/Samsung/avanti-bootcamp-cdd/.venv/lib/python3.10/site-packages/sklearn/utils/__init__.py\", line 447, in _get_column_indices\n    col_idx = all_columns.get_loc(col)\n  File \"/mnt/c/Users/Samsung/avanti-bootcamp-cdd/.venv/lib/python3.10/site-packages/pandas/core/indexes/base.py\", line 3804, in get_loc\n    raise KeyError(key) from err\nKeyError: 'tip'\n\nThe above exception was the direct cause of the following exception:\n\nTraceback (most recent call last):\n  File \"/mnt/c/Users/Samsung/avanti-bootcamp-cdd/.venv/lib/python3.10/site-packages/sklearn/model_selection/_validation.py\", line 732, in _fit_and_score\n    estimator.fit(X_train, y_train, **fit_params)\n  File \"/mnt/c/Users/Samsung/avanti-bootcamp-cdd/.venv/lib/python3.10/site-packages/sklearn/base.py\", line 1151, in wrapper\n    return fit_method(estimator, *args, **kwargs)\n  File \"/mnt/c/Users/Samsung/avanti-bootcamp-cdd/.venv/lib/python3.10/site-packages/sklearn/pipeline.py\", line 416, in fit\n    Xt = self._fit(X, y, **fit_params_steps)\n  File \"/mnt/c/Users/Samsung/avanti-bootcamp-cdd/.venv/lib/python3.10/site-packages/sklearn/pipeline.py\", line 370, in _fit\n    X, fitted_transformer = fit_transform_one_cached(\n  File \"/mnt/c/Users/Samsung/avanti-bootcamp-cdd/.venv/lib/python3.10/site-packages/joblib/memory.py\", line 353, in __call__\n    return self.func(*args, **kwargs)\n  File \"/mnt/c/Users/Samsung/avanti-bootcamp-cdd/.venv/lib/python3.10/site-packages/sklearn/pipeline.py\", line 950, in _fit_transform_one\n    res = transformer.fit_transform(X, y, **fit_params)\n  File \"/mnt/c/Users/Samsung/avanti-bootcamp-cdd/.venv/lib/python3.10/site-packages/sklearn/utils/_set_output.py\", line 140, in wrapped\n    data_to_wrap = f(self, X, *args, **kwargs)\n  File \"/mnt/c/Users/Samsung/avanti-bootcamp-cdd/.venv/lib/python3.10/site-packages/sklearn/base.py\", line 1151, in wrapper\n    return fit_method(estimator, *args, **kwargs)\n  File \"/mnt/c/Users/Samsung/avanti-bootcamp-cdd/.venv/lib/python3.10/site-packages/sklearn/compose/_column_transformer.py\", line 740, in fit_transform\n    self._validate_column_callables(X)\n  File \"/mnt/c/Users/Samsung/avanti-bootcamp-cdd/.venv/lib/python3.10/site-packages/sklearn/compose/_column_transformer.py\", line 448, in _validate_column_callables\n    transformer_to_input_indices[name] = _get_column_indices(X, columns)\n  File \"/mnt/c/Users/Samsung/avanti-bootcamp-cdd/.venv/lib/python3.10/site-packages/sklearn/utils/__init__.py\", line 455, in _get_column_indices\n    raise ValueError(\"A given column is not a column of the dataframe\") from e\nValueError: A given column is not a column of the dataframe\n",
     "output_type": "error",
     "traceback": [
      "\u001b[0;31m---------------------------------------------------------------------------\u001b[0m",
      "\u001b[0;31mValueError\u001b[0m                                Traceback (most recent call last)",
      "Cell \u001b[0;32mIn[41], line 17\u001b[0m\n\u001b[1;32m      6\u001b[0m model_grid_search \u001b[38;5;241m=\u001b[39m GridSearchCV(\n\u001b[1;32m      7\u001b[0m     estimator\u001b[38;5;241m=\u001b[39mmodel_object,\n\u001b[1;32m      8\u001b[0m     param_grid\u001b[38;5;241m=\u001b[39mmodel_parameters,\n\u001b[0;32m   (...)\u001b[0m\n\u001b[1;32m     11\u001b[0m     cv\u001b[38;5;241m=\u001b[39mcross_validate_grid_search\n\u001b[1;32m     12\u001b[0m )\n\u001b[1;32m     13\u001b[0m approach \u001b[38;5;241m=\u001b[39m Pipeline(steps\u001b[38;5;241m=\u001b[39m[\n\u001b[1;32m     14\u001b[0m     (\u001b[38;5;124m'\u001b[39m\u001b[38;5;124mpreprocessor\u001b[39m\u001b[38;5;124m'\u001b[39m, preprocessor),\n\u001b[1;32m     15\u001b[0m     (\u001b[38;5;124m'\u001b[39m\u001b[38;5;124mmodel\u001b[39m\u001b[38;5;124m'\u001b[39m, model_grid_search)\n\u001b[1;32m     16\u001b[0m ])\n\u001b[0;32m---> 17\u001b[0m scores \u001b[38;5;241m=\u001b[39m \u001b[43mcross_validate\u001b[49m\u001b[43m(\u001b[49m\n\u001b[1;32m     18\u001b[0m \u001b[43m    \u001b[49m\u001b[43mestimator\u001b[49m\u001b[38;5;241;43m=\u001b[39;49m\u001b[43mapproach\u001b[49m\u001b[43m,\u001b[49m\n\u001b[1;32m     19\u001b[0m \u001b[43m    \u001b[49m\u001b[43mX\u001b[49m\u001b[38;5;241;43m=\u001b[39;49m\u001b[43mX\u001b[49m\u001b[43m,\u001b[49m\n\u001b[1;32m     20\u001b[0m \u001b[43m    \u001b[49m\u001b[43my\u001b[49m\u001b[38;5;241;43m=\u001b[39;49m\u001b[43my\u001b[49m\u001b[43m,\u001b[49m\n\u001b[1;32m     21\u001b[0m \u001b[43m    \u001b[49m\u001b[43mcv\u001b[49m\u001b[38;5;241;43m=\u001b[39;49m\u001b[43mcross_validate_comparative_analysis\u001b[49m\u001b[43m,\u001b[49m\n\u001b[1;32m     22\u001b[0m \u001b[43m    \u001b[49m\u001b[43mn_jobs\u001b[49m\u001b[38;5;241;43m=\u001b[39;49m\u001b[38;5;241;43m2\u001b[39;49m\u001b[43m,\u001b[49m\n\u001b[1;32m     23\u001b[0m \u001b[43m    \u001b[49m\u001b[43mscoring\u001b[49m\u001b[38;5;241;43m=\u001b[39;49m\u001b[43mmetrics\u001b[49m\u001b[43m,\u001b[49m\n\u001b[1;32m     24\u001b[0m \u001b[43m    \u001b[49m\u001b[43mreturn_train_score\u001b[49m\u001b[38;5;241;43m=\u001b[39;49m\u001b[38;5;28;43;01mFalse\u001b[39;49;00m\n\u001b[1;32m     25\u001b[0m \u001b[43m\u001b[49m\u001b[43m)\u001b[49m\n\u001b[1;32m     26\u001b[0m scores[\u001b[38;5;124m'\u001b[39m\u001b[38;5;124mmodel_name\u001b[39m\u001b[38;5;124m'\u001b[39m] \u001b[38;5;241m=\u001b[39m [model_name] \u001b[38;5;241m*\u001b[39m n_splits_comparative_analysis\n\u001b[1;32m     27\u001b[0m df_scores \u001b[38;5;241m=\u001b[39m pd\u001b[38;5;241m.\u001b[39mDataFrame(scores)\n",
      "File \u001b[0;32m/mnt/c/Users/Samsung/avanti-bootcamp-cdd/.venv/lib/python3.10/site-packages/sklearn/utils/_param_validation.py:211\u001b[0m, in \u001b[0;36mvalidate_params.<locals>.decorator.<locals>.wrapper\u001b[0;34m(*args, **kwargs)\u001b[0m\n\u001b[1;32m    205\u001b[0m \u001b[38;5;28;01mtry\u001b[39;00m:\n\u001b[1;32m    206\u001b[0m     \u001b[38;5;28;01mwith\u001b[39;00m config_context(\n\u001b[1;32m    207\u001b[0m         skip_parameter_validation\u001b[38;5;241m=\u001b[39m(\n\u001b[1;32m    208\u001b[0m             prefer_skip_nested_validation \u001b[38;5;129;01mor\u001b[39;00m global_skip_validation\n\u001b[1;32m    209\u001b[0m         )\n\u001b[1;32m    210\u001b[0m     ):\n\u001b[0;32m--> 211\u001b[0m         \u001b[38;5;28;01mreturn\u001b[39;00m \u001b[43mfunc\u001b[49m\u001b[43m(\u001b[49m\u001b[38;5;241;43m*\u001b[39;49m\u001b[43margs\u001b[49m\u001b[43m,\u001b[49m\u001b[43m \u001b[49m\u001b[38;5;241;43m*\u001b[39;49m\u001b[38;5;241;43m*\u001b[39;49m\u001b[43mkwargs\u001b[49m\u001b[43m)\u001b[49m\n\u001b[1;32m    212\u001b[0m \u001b[38;5;28;01mexcept\u001b[39;00m InvalidParameterError \u001b[38;5;28;01mas\u001b[39;00m e:\n\u001b[1;32m    213\u001b[0m     \u001b[38;5;66;03m# When the function is just a wrapper around an estimator, we allow\u001b[39;00m\n\u001b[1;32m    214\u001b[0m     \u001b[38;5;66;03m# the function to delegate validation to the estimator, but we replace\u001b[39;00m\n\u001b[1;32m    215\u001b[0m     \u001b[38;5;66;03m# the name of the estimator by the name of the function in the error\u001b[39;00m\n\u001b[1;32m    216\u001b[0m     \u001b[38;5;66;03m# message to avoid confusion.\u001b[39;00m\n\u001b[1;32m    217\u001b[0m     msg \u001b[38;5;241m=\u001b[39m re\u001b[38;5;241m.\u001b[39msub(\n\u001b[1;32m    218\u001b[0m         \u001b[38;5;124mr\u001b[39m\u001b[38;5;124m\"\u001b[39m\u001b[38;5;124mparameter of \u001b[39m\u001b[38;5;124m\\\u001b[39m\u001b[38;5;124mw+ must be\u001b[39m\u001b[38;5;124m\"\u001b[39m,\n\u001b[1;32m    219\u001b[0m         \u001b[38;5;124mf\u001b[39m\u001b[38;5;124m\"\u001b[39m\u001b[38;5;124mparameter of \u001b[39m\u001b[38;5;132;01m{\u001b[39;00mfunc\u001b[38;5;241m.\u001b[39m\u001b[38;5;18m__qualname__\u001b[39m\u001b[38;5;132;01m}\u001b[39;00m\u001b[38;5;124m must be\u001b[39m\u001b[38;5;124m\"\u001b[39m,\n\u001b[1;32m    220\u001b[0m         \u001b[38;5;28mstr\u001b[39m(e),\n\u001b[1;32m    221\u001b[0m     )\n",
      "File \u001b[0;32m/mnt/c/Users/Samsung/avanti-bootcamp-cdd/.venv/lib/python3.10/site-packages/sklearn/model_selection/_validation.py:328\u001b[0m, in \u001b[0;36mcross_validate\u001b[0;34m(estimator, X, y, groups, scoring, cv, n_jobs, verbose, fit_params, pre_dispatch, return_train_score, return_estimator, return_indices, error_score)\u001b[0m\n\u001b[1;32m    308\u001b[0m parallel \u001b[38;5;241m=\u001b[39m Parallel(n_jobs\u001b[38;5;241m=\u001b[39mn_jobs, verbose\u001b[38;5;241m=\u001b[39mverbose, pre_dispatch\u001b[38;5;241m=\u001b[39mpre_dispatch)\n\u001b[1;32m    309\u001b[0m results \u001b[38;5;241m=\u001b[39m parallel(\n\u001b[1;32m    310\u001b[0m     delayed(_fit_and_score)(\n\u001b[1;32m    311\u001b[0m         clone(estimator),\n\u001b[0;32m   (...)\u001b[0m\n\u001b[1;32m    325\u001b[0m     \u001b[38;5;28;01mfor\u001b[39;00m train, test \u001b[38;5;129;01min\u001b[39;00m indices\n\u001b[1;32m    326\u001b[0m )\n\u001b[0;32m--> 328\u001b[0m \u001b[43m_warn_or_raise_about_fit_failures\u001b[49m\u001b[43m(\u001b[49m\u001b[43mresults\u001b[49m\u001b[43m,\u001b[49m\u001b[43m \u001b[49m\u001b[43merror_score\u001b[49m\u001b[43m)\u001b[49m\n\u001b[1;32m    330\u001b[0m \u001b[38;5;66;03m# For callable scoring, the return type is only know after calling. If the\u001b[39;00m\n\u001b[1;32m    331\u001b[0m \u001b[38;5;66;03m# return type is a dictionary, the error scores can now be inserted with\u001b[39;00m\n\u001b[1;32m    332\u001b[0m \u001b[38;5;66;03m# the correct key.\u001b[39;00m\n\u001b[1;32m    333\u001b[0m \u001b[38;5;28;01mif\u001b[39;00m \u001b[38;5;28mcallable\u001b[39m(scoring):\n",
      "File \u001b[0;32m/mnt/c/Users/Samsung/avanti-bootcamp-cdd/.venv/lib/python3.10/site-packages/sklearn/model_selection/_validation.py:414\u001b[0m, in \u001b[0;36m_warn_or_raise_about_fit_failures\u001b[0;34m(results, error_score)\u001b[0m\n\u001b[1;32m    407\u001b[0m \u001b[38;5;28;01mif\u001b[39;00m num_failed_fits \u001b[38;5;241m==\u001b[39m num_fits:\n\u001b[1;32m    408\u001b[0m     all_fits_failed_message \u001b[38;5;241m=\u001b[39m (\n\u001b[1;32m    409\u001b[0m         \u001b[38;5;124mf\u001b[39m\u001b[38;5;124m\"\u001b[39m\u001b[38;5;130;01m\\n\u001b[39;00m\u001b[38;5;124mAll the \u001b[39m\u001b[38;5;132;01m{\u001b[39;00mnum_fits\u001b[38;5;132;01m}\u001b[39;00m\u001b[38;5;124m fits failed.\u001b[39m\u001b[38;5;130;01m\\n\u001b[39;00m\u001b[38;5;124m\"\u001b[39m\n\u001b[1;32m    410\u001b[0m         \u001b[38;5;124m\"\u001b[39m\u001b[38;5;124mIt is very likely that your model is misconfigured.\u001b[39m\u001b[38;5;130;01m\\n\u001b[39;00m\u001b[38;5;124m\"\u001b[39m\n\u001b[1;32m    411\u001b[0m         \u001b[38;5;124m\"\u001b[39m\u001b[38;5;124mYou can try to debug the error by setting error_score=\u001b[39m\u001b[38;5;124m'\u001b[39m\u001b[38;5;124mraise\u001b[39m\u001b[38;5;124m'\u001b[39m\u001b[38;5;124m.\u001b[39m\u001b[38;5;130;01m\\n\u001b[39;00m\u001b[38;5;130;01m\\n\u001b[39;00m\u001b[38;5;124m\"\u001b[39m\n\u001b[1;32m    412\u001b[0m         \u001b[38;5;124mf\u001b[39m\u001b[38;5;124m\"\u001b[39m\u001b[38;5;124mBelow are more details about the failures:\u001b[39m\u001b[38;5;130;01m\\n\u001b[39;00m\u001b[38;5;132;01m{\u001b[39;00mfit_errors_summary\u001b[38;5;132;01m}\u001b[39;00m\u001b[38;5;124m\"\u001b[39m\n\u001b[1;32m    413\u001b[0m     )\n\u001b[0;32m--> 414\u001b[0m     \u001b[38;5;28;01mraise\u001b[39;00m \u001b[38;5;167;01mValueError\u001b[39;00m(all_fits_failed_message)\n\u001b[1;32m    416\u001b[0m \u001b[38;5;28;01melse\u001b[39;00m:\n\u001b[1;32m    417\u001b[0m     some_fits_failed_message \u001b[38;5;241m=\u001b[39m (\n\u001b[1;32m    418\u001b[0m         \u001b[38;5;124mf\u001b[39m\u001b[38;5;124m\"\u001b[39m\u001b[38;5;130;01m\\n\u001b[39;00m\u001b[38;5;132;01m{\u001b[39;00mnum_failed_fits\u001b[38;5;132;01m}\u001b[39;00m\u001b[38;5;124m fits failed out of a total of \u001b[39m\u001b[38;5;132;01m{\u001b[39;00mnum_fits\u001b[38;5;132;01m}\u001b[39;00m\u001b[38;5;124m.\u001b[39m\u001b[38;5;130;01m\\n\u001b[39;00m\u001b[38;5;124m\"\u001b[39m\n\u001b[1;32m    419\u001b[0m         \u001b[38;5;124m\"\u001b[39m\u001b[38;5;124mThe score on these train-test partitions for these parameters\u001b[39m\u001b[38;5;124m\"\u001b[39m\n\u001b[0;32m   (...)\u001b[0m\n\u001b[1;32m    423\u001b[0m         \u001b[38;5;124mf\u001b[39m\u001b[38;5;124m\"\u001b[39m\u001b[38;5;124mBelow are more details about the failures:\u001b[39m\u001b[38;5;130;01m\\n\u001b[39;00m\u001b[38;5;132;01m{\u001b[39;00mfit_errors_summary\u001b[38;5;132;01m}\u001b[39;00m\u001b[38;5;124m\"\u001b[39m\n\u001b[1;32m    424\u001b[0m     )\n",
      "\u001b[0;31mValueError\u001b[0m: \nAll the 10 fits failed.\nIt is very likely that your model is misconfigured.\nYou can try to debug the error by setting error_score='raise'.\n\nBelow are more details about the failures:\n--------------------------------------------------------------------------------\n10 fits failed with the following error:\nTraceback (most recent call last):\n  File \"/mnt/c/Users/Samsung/avanti-bootcamp-cdd/.venv/lib/python3.10/site-packages/pandas/core/indexes/base.py\", line 3802, in get_loc\n    return self._engine.get_loc(casted_key)\n  File \"pandas/_libs/index.pyx\", line 138, in pandas._libs.index.IndexEngine.get_loc\n  File \"pandas/_libs/index.pyx\", line 165, in pandas._libs.index.IndexEngine.get_loc\n  File \"pandas/_libs/hashtable_class_helper.pxi\", line 5745, in pandas._libs.hashtable.PyObjectHashTable.get_item\n  File \"pandas/_libs/hashtable_class_helper.pxi\", line 5753, in pandas._libs.hashtable.PyObjectHashTable.get_item\nKeyError: 'tip'\n\nThe above exception was the direct cause of the following exception:\n\nTraceback (most recent call last):\n  File \"/mnt/c/Users/Samsung/avanti-bootcamp-cdd/.venv/lib/python3.10/site-packages/sklearn/utils/__init__.py\", line 447, in _get_column_indices\n    col_idx = all_columns.get_loc(col)\n  File \"/mnt/c/Users/Samsung/avanti-bootcamp-cdd/.venv/lib/python3.10/site-packages/pandas/core/indexes/base.py\", line 3804, in get_loc\n    raise KeyError(key) from err\nKeyError: 'tip'\n\nThe above exception was the direct cause of the following exception:\n\nTraceback (most recent call last):\n  File \"/mnt/c/Users/Samsung/avanti-bootcamp-cdd/.venv/lib/python3.10/site-packages/sklearn/model_selection/_validation.py\", line 732, in _fit_and_score\n    estimator.fit(X_train, y_train, **fit_params)\n  File \"/mnt/c/Users/Samsung/avanti-bootcamp-cdd/.venv/lib/python3.10/site-packages/sklearn/base.py\", line 1151, in wrapper\n    return fit_method(estimator, *args, **kwargs)\n  File \"/mnt/c/Users/Samsung/avanti-bootcamp-cdd/.venv/lib/python3.10/site-packages/sklearn/pipeline.py\", line 416, in fit\n    Xt = self._fit(X, y, **fit_params_steps)\n  File \"/mnt/c/Users/Samsung/avanti-bootcamp-cdd/.venv/lib/python3.10/site-packages/sklearn/pipeline.py\", line 370, in _fit\n    X, fitted_transformer = fit_transform_one_cached(\n  File \"/mnt/c/Users/Samsung/avanti-bootcamp-cdd/.venv/lib/python3.10/site-packages/joblib/memory.py\", line 353, in __call__\n    return self.func(*args, **kwargs)\n  File \"/mnt/c/Users/Samsung/avanti-bootcamp-cdd/.venv/lib/python3.10/site-packages/sklearn/pipeline.py\", line 950, in _fit_transform_one\n    res = transformer.fit_transform(X, y, **fit_params)\n  File \"/mnt/c/Users/Samsung/avanti-bootcamp-cdd/.venv/lib/python3.10/site-packages/sklearn/utils/_set_output.py\", line 140, in wrapped\n    data_to_wrap = f(self, X, *args, **kwargs)\n  File \"/mnt/c/Users/Samsung/avanti-bootcamp-cdd/.venv/lib/python3.10/site-packages/sklearn/base.py\", line 1151, in wrapper\n    return fit_method(estimator, *args, **kwargs)\n  File \"/mnt/c/Users/Samsung/avanti-bootcamp-cdd/.venv/lib/python3.10/site-packages/sklearn/compose/_column_transformer.py\", line 740, in fit_transform\n    self._validate_column_callables(X)\n  File \"/mnt/c/Users/Samsung/avanti-bootcamp-cdd/.venv/lib/python3.10/site-packages/sklearn/compose/_column_transformer.py\", line 448, in _validate_column_callables\n    transformer_to_input_indices[name] = _get_column_indices(X, columns)\n  File \"/mnt/c/Users/Samsung/avanti-bootcamp-cdd/.venv/lib/python3.10/site-packages/sklearn/utils/__init__.py\", line 455, in _get_column_indices\n    raise ValueError(\"A given column is not a column of the dataframe\") from e\nValueError: A given column is not a column of the dataframe\n"
     ]
    }
   ],
   "source": [
    "#Não rodou.\n",
    "results = pd.DataFrame({})\n",
    "cross_validate_grid_search = KFold(n_splits=n_folds_grid_search)\n",
    "cross_validate_comparative_analysis = ShuffleSplit(n_splits=n_splits_comparative_analysis, test_size=test_size, random_state=random_state)\n",
    "for model_name, model_object, model_parameters in models:\n",
    "    print(f\"running {model_name}...\")\n",
    "    model_grid_search = GridSearchCV(\n",
    "        estimator=model_object,\n",
    "        param_grid=model_parameters,\n",
    "        scoring=scoring,\n",
    "        n_jobs=2,\n",
    "        cv=cross_validate_grid_search\n",
    "    )\n",
    "    approach = Pipeline(steps=[\n",
    "        ('preprocessor', preprocessor),\n",
    "        ('model', model_grid_search)\n",
    "    ])\n",
    "    scores = cross_validate(\n",
    "        estimator=approach,\n",
    "        X=X,\n",
    "        y=y,\n",
    "        cv=cross_validate_comparative_analysis,\n",
    "        n_jobs=2,\n",
    "        scoring=metrics,\n",
    "        return_train_score=False\n",
    "    )\n",
    "    scores['model_name'] = [model_name] * n_splits_comparative_analysis\n",
    "    df_scores = pd.DataFrame(scores)\n",
    "    df_scores =  df_scores.drop(columns=['model_name'])\n",
    "    df_scores = df_scores.agg(['mean', 'std'])\n",
    "    display(df_scores)\n",
    "    results = pd.concat([results, pd.DataFrame(scores)], ignore_index=True)"
   ]
  }
 ],
 "metadata": {
  "kernelspec": {
   "display_name": "Python 3 (ipykernel)",
   "language": "python",
   "name": "python3"
  },
  "language_info": {
   "codemirror_mode": {
    "name": "ipython",
    "version": 3
   },
   "file_extension": ".py",
   "mimetype": "text/x-python",
   "name": "python",
   "nbconvert_exporter": "python",
   "pygments_lexer": "ipython3",
   "version": "3.10.11"
  }
 },
 "nbformat": 4,
 "nbformat_minor": 5
}
